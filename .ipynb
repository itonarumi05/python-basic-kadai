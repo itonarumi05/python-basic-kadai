# prompt: 上辺：10cm
# 下辺：20cm
# 高さ：5cm
# 公式：台形の面積 =（上辺＋下辺）× 高さ ÷ 2 

# 上辺、下辺、高さを変数に代入
top_side = 10  # cm
bottom_side = 20  # cm
height = 5  # cm

# 台形の面積を計算
area = (top_side + bottom_side) * height / 2

# 結果を出力
print(f"台形の面積は {area} cm² です。")
