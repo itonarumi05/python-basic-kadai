# 上辺、下辺、高さの値を変数に代入
upper_base = 10  # 上辺（cm）
lower_base = 20  # 下辺（cm）
height = 5       # 高さ（cm）

# 台形の面積を計算し、変数に代入
area = (upper_base + lower_base) * height / 2  # （10 + 20）× 5 ÷ 2

# 数値と文字列を結合して出力
print(str(area) + " cm²")
