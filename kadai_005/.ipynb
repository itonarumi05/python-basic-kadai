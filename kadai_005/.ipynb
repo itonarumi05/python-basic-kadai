# 台形の上辺、下辺、高さを設定
upper_base = 10  # 上辺
lower_base = 15  # 下辺
height = 7       # 高さ

# 台形の面積を計算（公式：(上辺 + 下辺) × 高さ ÷ 2）
area = (upper_base + lower_base) * height / 2

# 数値と文字列を結合して出力
print(str(area) + " cm²")
